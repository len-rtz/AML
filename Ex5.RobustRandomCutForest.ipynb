{
  "cells": [
    {
      "cell_type": "markdown",
      "id": "090f5923",
      "metadata": {
        "id": "090f5923"
      },
      "source": [
        "<img src=\"https://www.th-koeln.de/img/logo.svg\" style=\"float:right;\" width=\"200\">"
      ]
    },
    {
      "cell_type": "markdown",
      "id": "9ab683bd",
      "metadata": {
        "id": "9ab683bd"
      },
      "source": [
        "# 5th exercise: <font color=\"#C70039\">Work with Robust Random Cut Forest (RRCF) algorithms for anomaly detection</font>\n",
        "* Course: AML\n",
        "* Lecturer: <a href=\"https://www.gernotheisenberg.de/\">Gernot Heisenberg</a>\n",
        "* Author of notebook: <a href=\"https://www.gernotheisenberg.de/\">Gernot Heisenberg</a>\n",
        "* Date:   04.09.2024\n",
        "\n",
        "<img src=\"https://docs.aws.amazon.com/sagemaker/latest/dg/images/RCF2.jpg\" style=\"float: center;\" width=\"450\">\n",
        "\n",
        "---------------------------------\n",
        "**GENERAL NOTE 1**:\n",
        "Please make sure you are reading the entire notebook, since it contains a lot of information on your tasks (e.g. regarding the set of certain paramaters or a specific computational trick), and the written mark downs as well as comments contain a lot of information on how things work together as a whole.\n",
        "\n",
        "**GENERAL NOTE 2**:\n",
        "* Please, when commenting source code, just use English language only.\n",
        "* When describing an observation please use English language, too.\n",
        "* This applies to all exercises throughout this course.\n",
        "\n",
        "* <font color=red>Install the RRCF package per pip:_$ pip install rrcf_</font>\n",
        "\n",
        "The codes of this exercise is based on the codebase of the following team:\n",
        "\n",
        "_M. Bartos, A. Mullapudi, & S. Troutman, rrcf: Implementation of the Robust Random Cut Forest algorithm for anomaly detection on streams , in: Journal of Open Source Software, The Open Journal, Volume 4, Number 35. 2019_\n",
        "\n",
        "---------------------\n",
        "\n",
        "### <font color=\"ce33ff\">DESCRIPTION</font>:\n",
        "This notebook allows you for learning Amazon's Robust Random Cut Forest algorithm and its implementation for detecting anomalies. The Robust Random Cut Forest Algorithm for anomaly detection was invented by Guha et al. in 2016. Further reading can be found here (&rarr; <a href=\"http://proceedings.mlr.press/v48/guha16.pdf\">paper</a>):\n",
        "\n",
        "_S. Guha, N. Mishra, G. Roy, & O. Schrijvers, Robust random cut forest based anomaly detection on streams, in Proceedings of the 33rd International conference on machine learning, New York, NY, 2016 (pp. 2712-2721)_.\n",
        "\n",
        "-------------------------------------------------------------------------------------------------------------\n",
        "\n",
        "### <font color=\"FFC300\">TASKS</font>:\n",
        "The tasks that you need to work on within this notebook are always indicated below as bullet points.\n",
        "If a task is more challenging and consists of several steps, this is indicated as well.\n",
        "Make sure you have worked down the task list and commented your doings.\n",
        "This should be done by using markdown.<br>\n",
        "<font color=red>Make sure you don't forget to specify your name and your matriculation number in the notebook.</font>\n",
        "\n",
        "**YOUR TASKS in this exercise are as follows**:\n",
        "1. import the notebook to Google Colab or use your local machine.\n",
        "2. make sure you specified you name and your matriculation number in the header below my name and date.\n",
        "    * set the date too and remove mine.\n",
        "3. read the entire notebook carefully\n",
        "    * add comments whereever you feel it necessary for better understanding\n",
        "    * run the notebook for the first time.\n",
        "4. take the three data sets from exercize 1 and apply the RRCF to them.\n",
        "5. interpret the results in writing.\n",
        "-----------------------------------------------------------------------------------"
      ]
    },
    {
      "cell_type": "markdown",
      "id": "33ab5d67",
      "metadata": {
        "id": "33ab5d67"
      },
      "source": [
        "### Robust random cut trees (part I)\n",
        "A RRCT can be instantiated from a point set. Points can also be added and removed from an RRCT."
      ]
    },
    {
      "cell_type": "code",
      "source": [
        "!pip install rrcf"
      ],
      "metadata": {
        "id": "LBL3BdmEzZVv",
        "outputId": "b975758f-e8aa-4215-9865-d5d574f57fbb",
        "colab": {
          "base_uri": "https://localhost:8080/"
        }
      },
      "id": "LBL3BdmEzZVv",
      "execution_count": 4,
      "outputs": [
        {
          "output_type": "stream",
          "name": "stdout",
          "text": [
            "Collecting rrcf\n",
            "  Downloading rrcf-0.4.4.tar.gz (14 kB)\n",
            "  Preparing metadata (setup.py) ... \u001b[?25l\u001b[?25hdone\n",
            "Requirement already satisfied: numpy in /usr/local/lib/python3.10/dist-packages (from rrcf) (1.26.4)\n",
            "Building wheels for collected packages: rrcf\n",
            "  Building wheel for rrcf (setup.py) ... \u001b[?25l\u001b[?25hdone\n",
            "  Created wheel for rrcf: filename=rrcf-0.4.4-py3-none-any.whl size=10603 sha256=30c9273dae1d5013bfa2bbf241b7c75476c7c66c3e32687ca4a4a1ab5ef26a69\n",
            "  Stored in directory: /root/.cache/pip/wheels/51/d4/43/6ac8270752946ee2223022ce0ed0d66c9455d000e1facb53a6\n",
            "Successfully built rrcf\n",
            "Installing collected packages: rrcf\n",
            "Successfully installed rrcf-0.4.4\n"
          ]
        }
      ]
    },
    {
      "cell_type": "code",
      "execution_count": 5,
      "id": "79176af3",
      "metadata": {
        "tags": [],
        "id": "79176af3"
      },
      "outputs": [],
      "source": [
        "import numpy as np\n",
        "import rrcf"
      ]
    },
    {
      "cell_type": "markdown",
      "id": "245fffa3",
      "metadata": {
        "id": "245fffa3"
      },
      "source": [
        "#### A (robust) random cut tree can be instantiated from a point set (n x d)"
      ]
    },
    {
      "cell_type": "code",
      "execution_count": 6,
      "id": "fabbb534",
      "metadata": {
        "tags": [],
        "id": "fabbb534",
        "outputId": "c227427d-39e2-40e1-9f9b-7d3fc9c99a63",
        "colab": {
          "base_uri": "https://localhost:8080/"
        }
      },
      "outputs": [
        {
          "output_type": "stream",
          "name": "stdout",
          "text": [
            "─+\n",
            " ├───+\n",
            " │   ├──(15)\n",
            " │   └───+\n",
            " │       ├───+\n",
            " │       │   ├───+\n",
            " │       │   │   ├──(5)\n",
            " │       │   │   └──(0)\n",
            " │       │   └──(22)\n",
            " │       └───+\n",
            " │           ├───+\n",
            " │           │   ├───+\n",
            " │           │   │   ├──(12)\n",
            " │           │   │   └──(27)\n",
            " │           │   └──(8)\n",
            " │           └──(28)\n",
            " └───+\n",
            "     ├───+\n",
            "     │   ├───+\n",
            "     │   │   ├───+\n",
            "     │   │   │   ├──(9)\n",
            "     │   │   │   └──(21)\n",
            "     │   │   └───+\n",
            "     │   │       ├──(23)\n",
            "     │   │       └──(7)\n",
            "     │   └──(10)\n",
            "     └───+\n",
            "         ├───+\n",
            "         │   ├──(19)\n",
            "         │   └───+\n",
            "         │       ├──(16)\n",
            "         │       └──(25)\n",
            "         └───+\n",
            "             ├───+\n",
            "             │   ├──(29)\n",
            "             │   └───+\n",
            "             │       ├───+\n",
            "             │       │   ├──(1)\n",
            "             │       │   └───+\n",
            "             │       │       ├───+\n",
            "             │       │       │   ├───+\n",
            "             │       │       │   │   ├───+\n",
            "             │       │       │   │   │   ├──(17)\n",
            "             │       │       │   │   │   └──(6)\n",
            "             │       │       │   │   └──(11)\n",
            "             │       │       │   └──(24)\n",
            "             │       │       └───+\n",
            "             │       │           ├──(20)\n",
            "             │       │           └──(18)\n",
            "             │       └───+\n",
            "             │           ├──(3)\n",
            "             │           └───+\n",
            "             │               ├───+\n",
            "             │               │   ├──(2)\n",
            "             │               │   └──(14)\n",
            "             │               └───+\n",
            "             │                   ├──(4)\n",
            "             │                   └──(26)\n",
            "             └──(13)\n",
            "\n"
          ]
        }
      ],
      "source": [
        "X = np.random.randn(30, 2)\n",
        "tree = rrcf.RCTree(X)\n",
        "\n",
        "print(tree)"
      ]
    },
    {
      "cell_type": "markdown",
      "id": "722da09b",
      "metadata": {
        "id": "722da09b"
      },
      "source": [
        "#### A random cut tree can also be instantiated with no points.\n",
        "The points can be inserted and removed afterwards."
      ]
    },
    {
      "cell_type": "code",
      "execution_count": 7,
      "id": "708f7688",
      "metadata": {
        "tags": [],
        "id": "708f7688",
        "outputId": "668775fb-b03e-40a2-9bfc-194d27a50610",
        "colab": {
          "base_uri": "https://localhost:8080/"
        }
      },
      "outputs": [
        {
          "output_type": "stream",
          "name": "stdout",
          "text": [
            "─+\n",
            " ├───+\n",
            " │   ├───+\n",
            " │   │   ├──(0)\n",
            " │   │   └───+\n",
            " │   │       ├──(4)\n",
            " │   │       └──(5)\n",
            " │   └──(1)\n",
            " └───+\n",
            "     ├──(2)\n",
            "     └──(3)\n",
            "\n",
            "─+\n",
            " ├───+\n",
            " │   ├───+\n",
            " │   │   ├──(0)\n",
            " │   │   └───+\n",
            " │   │       ├──(4)\n",
            " │   │       └──(5)\n",
            " │   └──(1)\n",
            " └──(3)\n",
            "\n"
          ]
        }
      ],
      "source": [
        "tree = rrcf.RCTree()\n",
        "\n",
        "#Inserting points at index i\n",
        "for i in range(6):\n",
        "    x = np.random.randn(2)\n",
        "    #print(\"x=\",x)\n",
        "    tree.insert_point(x, index=i)\n",
        "\n",
        "print(tree)\n",
        "\n",
        "#Deleting points at index i\n",
        "tree.forget_point(2)\n",
        "\n",
        "print(tree)"
      ]
    },
    {
      "cell_type": "markdown",
      "id": "c146466b",
      "metadata": {
        "id": "c146466b"
      },
      "source": [
        "### Robust random cut trees (part II)\n",
        "#### Anomaly score\n",
        "The likelihood that a point is an outlier is measured by the so-called <font color=red>collusive displacement (CoDisp)</font> score: if including a new point significantly changes the model's complexity (i.e. bit depth), then that point is more likely to be an outlier."
      ]
    },
    {
      "cell_type": "code",
      "execution_count": 8,
      "id": "220a0621",
      "metadata": {
        "tags": [],
        "id": "220a0621",
        "outputId": "86190c1e-0006-4f9f-99ec-caaf5c226919",
        "colab": {
          "base_uri": "https://localhost:8080/"
        }
      },
      "outputs": [
        {
          "output_type": "stream",
          "name": "stdout",
          "text": [
            "tree.codisp('inlier')= 1.0\n",
            "tree.codisp('outlier')= 33.0\n"
          ]
        }
      ],
      "source": [
        "# Seed the tree with zero-mean, and hence normally distributed data points\n",
        "X = np.random.randn(100,2)\n",
        "tree = rrcf.RCTree(X)\n",
        "\n",
        "# Generate one inlier and one outlier point\n",
        "inlier = np.array([0, 0])\n",
        "outlier = np.array([4, 4])\n",
        "\n",
        "# Insert both points into the tree\n",
        "tree.insert_point(inlier, index='inlier')\n",
        "tree.insert_point(outlier, index='outlier')\n",
        "\n",
        "# Ask for their codisp (anomaly) score\n",
        "print(\"tree.codisp('inlier')=\",tree.codisp('inlier'))\n",
        "print(\"tree.codisp('outlier')=\",tree.codisp('outlier'))"
      ]
    },
    {
      "cell_type": "markdown",
      "id": "f262a7c7",
      "metadata": {
        "id": "f262a7c7"
      },
      "source": [
        "As a rule of thumb:\n",
        "* scores of max(abs(3 * stdev)) are ok\n",
        "* higher scores are an indication of an outlier."
      ]
    },
    {
      "cell_type": "markdown",
      "id": "d12adad7",
      "metadata": {
        "id": "d12adad7"
      },
      "source": [
        "### Robust random cut trees (part III)\n",
        "#### Batch anomaly detection\n",
        "This example shows how a robust random cut forest can be used to detect outliers in a batch setting. As you already know, outliers correspond to a larger CoDisp score."
      ]
    },
    {
      "cell_type": "code",
      "execution_count": 9,
      "id": "b65ebaf6",
      "metadata": {
        "tags": [],
        "id": "b65ebaf6"
      },
      "outputs": [],
      "source": [
        "import numpy as np\n",
        "import pandas as pd\n",
        "import rrcf"
      ]
    },
    {
      "cell_type": "code",
      "execution_count": 10,
      "id": "6968ec2f",
      "metadata": {
        "tags": [],
        "id": "6968ec2f",
        "outputId": "13745206-199b-43b2-8017-1544d85096f7",
        "colab": {
          "base_uri": "https://localhost:8080/"
        }
      },
      "outputs": [
        {
          "output_type": "stream",
          "name": "stdout",
          "text": [
            "[ 0.60745962 -1.44310905]\n",
            "AVG_codisp[inlier points]= 5.59\n",
            "AVG_codisp[outlier points]= 73.54\n"
          ]
        }
      ],
      "source": [
        "'''\n",
        "In order to create a random forest, we simply create a list of RCTrees,\n",
        "with each RCTree constructed from a random sample of the input dataset.\n",
        "Let's create a random forest with 100 trees, each containing 256 points\n",
        "from the original sample.\n",
        "'''\n",
        "# Set parameters\n",
        "np.random.seed(0)\n",
        "n = 2010\n",
        "d = 3\n",
        "num_trees = 100\n",
        "tree_size = 256\n",
        "\n",
        "# Generate a random data set\n",
        "X = np.zeros((n, d))\n",
        "X[:1000,0] = 5\n",
        "X[1000:2000,0] = -5\n",
        "X += 0.01*np.random.randn(*X.shape)\n",
        "\n",
        "print(x)\n",
        "# Construct forest\n",
        "forest = []\n",
        "while len(forest) < num_trees:\n",
        "    # Select random subsets of points uniformly from point set\n",
        "    ixs = np.random.choice(n, size=(n // tree_size, tree_size),\n",
        "                           replace=False)\n",
        "    # Add sampled trees to forest\n",
        "    trees = [rrcf.RCTree(X[ix], index_labels=ix) for ix in ixs]\n",
        "    forest.extend(trees)\n",
        "\n",
        "'''\n",
        "Finally, to determine outliers we compute the average codisp\n",
        "over all trees for each point in the original sample.\n",
        "'''\n",
        "# Compute average CoDisp\n",
        "avg_codisp = pd.Series(0.0, index=np.arange(n))\n",
        "index = np.zeros(n)\n",
        "for tree in forest:\n",
        "    codisp = pd.Series({leaf : tree.codisp(leaf) for leaf in tree.leaves})\n",
        "    avg_codisp[codisp.index] += codisp\n",
        "    np.add.at(index, codisp.index.values, 1)\n",
        "avg_codisp /= index\n",
        "\n",
        "'''Now, print the average codisp for each set of points.'''\n",
        "# for the inlier points:\n",
        "print(\"AVG_codisp[inlier points]=\",round(avg_codisp[:-10].mean(),2))\n",
        "# for the outlier points:\n",
        "print(\"AVG_codisp[outlier points]=\",round(avg_codisp[-10:].mean(),2))"
      ]
    },
    {
      "cell_type": "code",
      "execution_count": 11,
      "id": "82e3fade",
      "metadata": {
        "tags": [],
        "id": "82e3fade",
        "outputId": "5da070ee-78cd-413c-c486-dcd824e513fe",
        "colab": {
          "base_uri": "https://localhost:8080/"
        }
      },
      "outputs": [
        {
          "output_type": "stream",
          "name": "stdout",
          "text": [
            "Is outlier?\n",
            " 0       False\n",
            "1       False\n",
            "2       False\n",
            "3       False\n",
            "4       False\n",
            "        ...  \n",
            "2005     True\n",
            "2006     True\n",
            "2007     True\n",
            "2008     True\n",
            "2009     True\n",
            "Length: 2010, dtype: bool\n"
          ]
        }
      ],
      "source": [
        "'''\n",
        "Note that the outlier points again have a larger codisp.\n",
        "To classify the original points into inlier and outlier classes,\n",
        "perform a simple threshold test on the codisp result.\n",
        "'''\n",
        "# For example:\n",
        "print(\"Is outlier?\\n\",avg_codisp > avg_codisp.quantile(0.99))"
      ]
    },
    {
      "cell_type": "markdown",
      "id": "39476a29",
      "metadata": {
        "id": "39476a29"
      },
      "source": [
        "### Robust random cut trees (part IV)\n",
        "#### Streaming anomaly detection\n",
        "This example shows how the algorithm can be used to detect anomalies in streaming time series data."
      ]
    },
    {
      "cell_type": "code",
      "execution_count": 12,
      "id": "7338ba23",
      "metadata": {
        "tags": [],
        "id": "7338ba23"
      },
      "outputs": [],
      "source": [
        "import numpy as np\n",
        "import rrcf\n",
        "\n",
        "# Generate a data set (sine wave with an anomaly inside)\n",
        "n = 730\n",
        "A = 50\n",
        "center = 100\n",
        "phi = 30\n",
        "T = 2*np.pi/100\n",
        "t = np.arange(n)\n",
        "sin = A*np.sin(T*t-phi*T) + center\n",
        "sin[235:255] = 80\n",
        "\n",
        "# Set tree parameters\n",
        "num_trees = 40\n",
        "shingle_size = 4\n",
        "tree_size = 256\n",
        "\n",
        "# Construct again a forest of empty trees\n",
        "forest = []\n",
        "for _ in range(num_trees):\n",
        "    tree = rrcf.RCTree()\n",
        "    forest.append(tree)\n",
        "\n",
        "# Insert streaming points into tree and compute anomaly score\n",
        "# Use the \"shingle\" generator to create a rolling window\n",
        "points = rrcf.shingle(sin, size=shingle_size)\n",
        "\n",
        "# Create a dict to store anomaly score of each point\n",
        "avg_codisp = {}\n",
        "\n",
        "# For each shingle...\n",
        "for index, point in enumerate(points):\n",
        "    # For each tree in the forest...\n",
        "    for tree in forest:\n",
        "        # If tree is above permitted size, drop the oldest point (FIFO)\n",
        "        if len(tree.leaves) > tree_size:\n",
        "            tree.forget_point(index - tree_size)\n",
        "        # Insert the new point into the tree\n",
        "        tree.insert_point(point, index=index)\n",
        "        # Compute codisp on the new point and take the average among all trees\n",
        "        if not index in avg_codisp:\n",
        "            avg_codisp[index] = 0\n",
        "        avg_codisp[index] += tree.codisp(index) / num_trees"
      ]
    },
    {
      "cell_type": "code",
      "execution_count": 13,
      "id": "7b7f9197",
      "metadata": {
        "tags": [],
        "id": "7b7f9197",
        "outputId": "83b36ed2-e477-42f4-e936-215491e2f6bd",
        "colab": {
          "base_uri": "https://localhost:8080/",
          "height": 469
        }
      },
      "outputs": [
        {
          "output_type": "display_data",
          "data": {
            "text/plain": [
              "<Figure size 1000x500 with 2 Axes>"
            ],
            "image/png": "[encoded data removed]"
          },
          "metadata": {}
        }
      ],
      "source": [
        "'''visualize the original time series and the CoDisp score'''\n",
        "import pandas as pd\n",
        "import matplotlib.pyplot as plt\n",
        "import seaborn as sns\n",
        "\n",
        "fig, ax1 = plt.subplots(figsize=(10, 5))\n",
        "\n",
        "color = 'tab:red'\n",
        "ax1.set_ylabel('data points', color=color, size=14)\n",
        "ax1.plot(sin, color=color)\n",
        "ax1.tick_params(axis='y', labelcolor=color, labelsize=12)\n",
        "ax1.set_ylim(0,160)\n",
        "ax2 = ax1.twinx()\n",
        "color = 'tab:blue'\n",
        "ax2.set_ylabel('CoDisp', color=color, size=14)\n",
        "ax2.plot(pd.Series(avg_codisp).sort_index(), color=color)\n",
        "ax2.tick_params(axis='y', labelcolor=color, labelsize=12)\n",
        "ax2.grid('off')\n",
        "ax2.set_ylim(0, 160)\n",
        "plt.title('Sine wave with injected anomaly (red) and anomaly score (blue)', size=14)\n",
        "plt.show()"
      ]
    },
    {
      "cell_type": "markdown",
      "source": [
        "# Data Set 1: Resting Blood Pressure"
      ],
      "metadata": {
        "id": "VnanKUcyzuga"
      },
      "id": "VnanKUcyzuga"
    },
    {
      "cell_type": "code",
      "execution_count": 14,
      "id": "3cdc2e45-1c23-4e12-8987-31d2545326e6",
      "metadata": {
        "id": "3cdc2e45-1c23-4e12-8987-31d2545326e6"
      },
      "outputs": [],
      "source": [
        "import pandas as pd"
      ]
    },
    {
      "cell_type": "code",
      "source": [
        "#Access the dataset (Source = https://www.kaggle.com/datasets/rashikrahmanpritom/heart-attack-analysis-prediction-dataset)\n",
        "url_1 = 'https://raw.githubusercontent.com/len-rtz/AML/refs/heads/wip/data/heart.csv'\n",
        "\n",
        "# Load the dataset\n",
        "df_1 = pd.read_csv(url_1)\n",
        "\n",
        "# Inspect the dataset to see the column names\n",
        "print(df_1.columns)"
      ],
      "metadata": {
        "id": "TFPpmVlDz3L2",
        "outputId": "412d28e3-bf7d-4f24-bb9c-2ae3652e66c3",
        "colab": {
          "base_uri": "https://localhost:8080/"
        }
      },
      "id": "TFPpmVlDz3L2",
      "execution_count": 15,
      "outputs": [
        {
          "output_type": "stream",
          "name": "stdout",
          "text": [
            "Index(['age', 'sex', 'cp', 'trtbps', 'chol', 'fbs', 'restecg', 'thalachh',\n",
            "       'exng', 'oldpeak', 'slp', 'caa', 'thall', 'output'],\n",
            "      dtype='object')\n"
          ]
        }
      ]
    },
    {
      "cell_type": "code",
      "source": [
        "# Extract the resting blood pressure (in mm Hg) column and drop missing values\n",
        "heart_rate_data = df_1['trtbps'].dropna()\n",
        "\n",
        "\n",
        "# Convert to a NumPy array and reshape for RRCF\n",
        "heart_rate_data_array = heart_rate_data.values.reshape(-1, 1)"
      ],
      "metadata": {
        "id": "1rk7GJ44z4dh"
      },
      "id": "1rk7GJ44z4dh",
      "execution_count": 16,
      "outputs": []
    },
    {
      "cell_type": "code",
      "source": [
        "# Set parameters\n",
        "np.random.seed(0)  # For reproducibility\n",
        "n_trees = 100       # Number of trees in the forest\n",
        "tree_size = 800     # Number of points in each tree\n",
        "\n",
        "# Construct forest\n",
        "forest = []\n",
        "while len(forest) < n_trees:\n",
        "    # Select random subsets of points uniformly from the heart rate dataset\n",
        "    ixs = np.random.choice(n, size=(n // tree_size, tree_size), replace=False)\n",
        "    # Add sampled trees to the forest\n",
        "    trees = [rrcf.RCTree(heart_rate_data_array[ix], index_labels=ix) for ix in ixs]\n",
        "    forest.extend(trees)\n",
        "\n",
        "# Compute average CoDisp\n",
        "avg_codisp = pd.Series(0.0, index=np.arange(n))\n",
        "index = np.zeros(n)\n",
        "\n",
        "for tree in forest:\n",
        "    codisp = pd.Series({leaf: tree.codisp(leaf) for leaf in tree.leaves})\n",
        "    avg_codisp[codisp.index] += codisp\n",
        "    np.add.at(index, codisp.index.values, 1)\n",
        "\n",
        "# Normalize average CoDisp\n",
        "avg_codisp /= index\n",
        "\n",
        "# Print the average CoDisp for each set of points\n",
        "# For the inlier points:\n",
        "print(\"AVG_codisp[inlier points] =\", round(avg_codisp[:-10].mean(), 2))\n",
        "\n",
        "# For the outlier points:\n",
        "print(\"AVG_codisp[outlier points] =\", round(avg_codisp[-10:].mean(), 2))"
      ],
      "metadata": {
        "id": "eoAw0eTx0R0N"
      },
      "id": "eoAw0eTx0R0N",
      "execution_count": null,
      "outputs": []
    },
    {
      "cell_type": "code",
      "source": [
        "# Compute anomaly scores\n",
        "anomaly_scores = np.array([tree.score(point) for tree in forest for point in heart_rate_data_array]).mean(axis=0)\n",
        "\n",
        "# Create a DataFrame for better visualization\n",
        "results = pd.DataFrame({\n",
        "    'Heart_Rate': heart_rate_data,\n",
        "    'Anomaly_Score': anomaly_scores\n",
        "})\n",
        "\n",
        "# Sort by anomaly scores\n",
        "results = results.sort_values(by='Anomaly_Score', ascending=False)\n"
      ],
      "metadata": {
        "id": "0N60RKrK0WI7"
      },
      "id": "0N60RKrK0WI7",
      "execution_count": null,
      "outputs": []
    }
  ],
  "metadata": {
    "kernelspec": {
      "display_name": "Python 3 (ipykernel)",
      "language": "python",
      "name": "python3"
    },
    "language_info": {
      "codemirror_mode": {
        "name": "ipython",
        "version": 3
      },
      "file_extension": ".py",
      "mimetype": "text/x-python",
      "name": "python",
      "nbconvert_exporter": "python",
      "pygments_lexer": "ipython3",
      "version": "3.9.17"
    },
    "colab": {
      "provenance": []
    }
  },
  "nbformat": 4,
  "nbformat_minor": 5
}