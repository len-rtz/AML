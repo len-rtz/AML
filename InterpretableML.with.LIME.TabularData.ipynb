{
 "cells": [
  {
   "cell_type": "markdown",
   "id": "c511be65-c505-4a23-b655-7b5f7cc90289",
   "metadata": {},
   "source": [
    "# Use Case: <font color=\"#C70039\">Interpretable Machine Learning with LIME for tabular data</font>\n",
    "* Course: AML\n",
    "* Lecturer: <a href=\"https://www.gernotheisenberg.de/\">Gernot Heisenberg</a>\n",
    "* Author of notebook: <a href=\"https://www.gernotheisenberg.de/\">Gernot Heisenberg</a>\n",
    "* Date:   28.10.2024\n",
    "\n",
    "<img src=\"https://miro.medium.com/max/664/1*J1V-RIBHIcX-Aej0x7UXnA.png\" style=\"float: center;\" width=\"600\">\n",
    "\n",
    "---------------------------------\n",
    "\n",
    "### Description \n",
    "This is one implementation example for LIME interpreting a random forest ensemble model that predicts tabular data. \n",
    "Please try to understand the implementation.\n",
    "\n",
    "---------------------------------"
   ]
  },
  {
   "cell_type": "markdown",
   "id": "4192a562-3d2b-4414-b311-d87ec45277cd",
   "metadata": {},
   "source": [
    "### Imports\n",
    "Import all necessary python utilities for loading, preprocessing and predicting the data. \n",
    "\n",
    "### <font color=\"FF0000\">TASKS</font>\n",
    "Try out other tabular data sets (e.g. stroke data set)."
   ]
  },
  {
   "cell_type": "code",
   "execution_count": null,
   "id": "58819040-82f7-4398-8bc7-8e8f28e0bb0a",
   "metadata": {
    "tags": []
   },
   "outputs": [],
   "source": [
    "# Import necessary libraries\n",
    "import pandas as pd\n",
    "from sklearn.datasets import load_iris\n",
    "from sklearn.model_selection import train_test_split\n",
    "from sklearn.preprocessing import StandardScaler\n",
    "from sklearn.ensemble import RandomForestClassifier\n",
    "from lime import lime_tabular"
   ]
  },
  {
   "cell_type": "markdown",
   "id": "8ec5fc82-a55e-4775-a1f0-08ce02b88bd9",
   "metadata": {},
   "source": [
    "### Load and preprocess the data"
   ]
  },
  {
   "cell_type": "code",
   "execution_count": null,
   "id": "a2ffe6fe-b0e0-412e-b70b-009639039e0d",
   "metadata": {
    "tags": []
   },
   "outputs": [],
   "source": [
    "# Load dataset\n",
    "iris = load_iris()\n",
    "df = pd.DataFrame(iris.data, columns=iris.feature_names)\n",
    "df['target'] = iris.target\n",
    "\n",
    "# Prepare data\n",
    "X = df.drop('target', axis=1)\n",
    "y = df['target']\n",
    "X_train, X_test, y_train, y_test = train_test_split(X, y, test_size=0.2, random_state=42)\n",
    "\n",
    "# Scale features\n",
    "scaler = StandardScaler()\n",
    "X_train_scaled = scaler.fit_transform(X_train)\n",
    "X_test_scaled = scaler.transform(X_test)"
   ]
  },
  {
   "cell_type": "markdown",
   "id": "809afcfe-a40f-4218-8ec1-5e2ff5e92674",
   "metadata": {
    "tags": []
   },
   "source": [
    "### Set up the model and train"
   ]
  },
  {
   "cell_type": "code",
   "execution_count": null,
   "id": "ea5687a3-c994-48e9-9b3b-338d55b6a9aa",
   "metadata": {
    "tags": []
   },
   "outputs": [],
   "source": [
    "# Train Random Forest model\n",
    "rf_model = RandomForestClassifier(n_estimators=100, random_state=42)\n",
    "rf_model.fit(X_train_scaled, y_train)"
   ]
  },
  {
   "cell_type": "markdown",
   "id": "e5904f13-e92b-43e8-ac8c-ec5374e1eb49",
   "metadata": {},
   "source": [
    "### Create LIME tabular explainer"
   ]
  },
  {
   "cell_type": "code",
   "execution_count": null,
   "id": "4f695316-7015-4a9a-92fb-08d5cb13ff6b",
   "metadata": {
    "tags": []
   },
   "outputs": [],
   "source": [
    "explainer = lime_tabular.LimeTabularExplainer(\n",
    "    X_train_scaled,\n",
    "    feature_names=X.columns,\n",
    "    class_names=iris.target_names,\n",
    "    mode='classification'\n",
    ")\n",
    "\n",
    "# Choose an instance to explain\n",
    "instance = X_test_scaled[20]\n",
    "\n",
    "# Generate explanation\n",
    "exp = explainer.explain_instance(instance, rf_model.predict_proba, num_features=4)\n",
    "\n",
    "# Visualize explanation\n",
    "exp.as_pyplot_figure()\n",
    "\n",
    "# Print feature importance\n",
    "print(exp.as_list())"
   ]
  },
  {
   "cell_type": "code",
   "execution_count": null,
   "id": "0253c3b1-1a9b-4f96-91ac-76c2c36695f9",
   "metadata": {},
   "outputs": [],
   "source": []
  }
 ],
 "metadata": {
  "kernelspec": {
   "display_name": "Python 3 (ipykernel)",
   "language": "python",
   "name": "python3"
  },
  "language_info": {
   "codemirror_mode": {
    "name": "ipython",
    "version": 3
   },
   "file_extension": ".py",
   "mimetype": "text/x-python",
   "name": "python",
   "nbconvert_exporter": "python",
   "pygments_lexer": "ipython3",
   "version": "3.9.17"
  }
 },
 "nbformat": 4,
 "nbformat_minor": 5
}
