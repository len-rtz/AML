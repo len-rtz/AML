{
  "cells": [
    {
      "cell_type": "markdown",
      "id": "cbda02a8",
      "metadata": {
        "id": "cbda02a8"
      },
      "source": [
        "<img src=\"https://www.th-koeln.de/img/logo.svg\" style=\"float:right;\" width=\"200\">"
      ]
    },
    {
      "cell_type": "markdown",
      "id": "3efc66f5",
      "metadata": {
        "id": "3efc66f5"
      },
      "source": [
        "# 2nd exercise: <font color=\"#C70039\">Work with Boxplots for anomaly detection</font>\n",
        "* Course: AML\n",
        "* Lecturer: <a href=\"https://www.gernotheisenberg.de/\">Gernot Heisenberg</a>\n",
        "* Author of notebook: Lena Pickartz (11330741)\n",
        "* Date: 23.10.2024\n",
        "\n",
        "<img src=\"https://r-graph-gallery.com/img/other/boxplot_explanation.png\" style=\"float: center;\" width=\"800\">\n",
        "<img src=\"https://i2.wp.com/upload.wikimedia.org/wikipedia/commons/thumb/1/1a/Boxplot_vs_PDF.svg/550px-Boxplot_vs_PDF.svg.png?w=578\" style=\"float: center;\" width=\"800\">\n",
        "\n",
        "\n",
        "---------------------------------\n",
        "**GENERAL NOTE 1**:\n",
        "Please make sure you are reading the entire notebook, since it contains a lot of information on your tasks (e.g. regarding the set of certain paramaters or a specific computational trick), and the written mark downs as well as comments contain a lot of information on how things work together as a whole.\n",
        "\n",
        "**GENERAL NOTE 2**:\n",
        "* Please, when commenting source code, just use English language only.\n",
        "* When describing an observation please use English language, too\n",
        "* This applies to all exercises throughout this course.  \n",
        "\n",
        "---------------------\n",
        "\n",
        "### <font color=\"ce33ff\">DESCRIPTION</font>:\n",
        "This notebook allows you for using boxplots to detect anomalies. Try to interpret the boxplot.\n",
        "\n",
        "-------------------------------------------------------------------------------------------------------------\n",
        "\n",
        "### <font color=\"FFC300\">TASKS</font>:\n",
        "The tasks that you need to work on within this notebook are always indicated below as bullet points.\n",
        "If a task is more challenging and consists of several steps, this is indicated as well.\n",
        "Make sure you have worked down the task list and commented your doings.\n",
        "This should be done by using markdown.<br>\n",
        "<font color=red>Make sure you don't forget to specify your name and your matriculation number in the notebook.</font>\n",
        "\n",
        "**YOUR TASKS in this exercise are as follows**:\n",
        "1. import the notebook to Google Colab or use your local machine.\n",
        "2. make sure you specified you name and your matriculation number in the header below my name and date.\n",
        "    * set the date too and remove mine.\n",
        "3. read the entire notebook carefully\n",
        "    * add comments whereever you feel it necessary for better understanding\n",
        "    * run the notebook for the first time.\n",
        "4. take the three data sets from exercize 1 and create a boxplot for each of them\n",
        "5. interpret the visual results and describe them\n",
        "6. how can you test your data for being normally distributed?\n",
        "-----------------------------------------------------------------------------------"
      ]
    },
    {
      "cell_type": "code",
      "execution_count": null,
      "id": "e9e37b8a",
      "metadata": {
        "tags": [],
        "id": "e9e37b8a"
      },
      "outputs": [],
      "source": [
        "import seaborn as sns\n",
        "import matplotlib.pyplot as plt\n",
        "import numpy as np\n",
        "from numpy.random import randn\n",
        "np.random.seed(1)\n"
      ]
    },
    {
      "cell_type": "code",
      "execution_count": null,
      "id": "259ca2cf",
      "metadata": {
        "tags": [],
        "id": "259ca2cf"
      },
      "outputs": [],
      "source": [
        "# multiply and add by random numbers to get some real values\n",
        "# randn generates samples from the normal distribution (important - see below)\n",
        "random_data = np.random.randn(50000)  * 20 + 20"
      ]
    },
    {
      "cell_type": "code",
      "execution_count": null,
      "id": "9f60ff6f",
      "metadata": {
        "tags": [],
        "id": "9f60ff6f",
        "outputId": "c20d9db4-0759-4145-c849-9ee69cc39c8e",
        "colab": {
          "base_uri": "https://localhost:8080/",
          "height": 411
        }
      },
      "outputs": [
        {
          "output_type": "display_data",
          "data": {
            "text/plain": [
              "<Figure size 640x480 with 1 Axes>"
            ],
            "image/png": "[encoded data removed]"
          },
          "metadata": {}
        }
      ],
      "source": [
        "sns.boxplot(data=random_data)\n",
        "plt.show()"
      ]
    },
    {
      "cell_type": "markdown",
      "source": [
        "# Data Set 1: Resting Blood Pressure"
      ],
      "metadata": {
        "id": "tHuYrN8g5riu"
      },
      "id": "tHuYrN8g5riu"
    },
    {
      "cell_type": "code",
      "source": [
        "import pandas as pd\n",
        "\n",
        "#Access the dataset (Source = https://www.kaggle.com/datasets/rashikrahmanpritom/heart-attack-analysis-prediction-dataset)\n",
        "url_1 = 'https://raw.githubusercontent.com/len-rtz/AML/refs/heads/main/data/heart.csv'\n",
        "\n",
        "# Load the dataset\n",
        "df_1 = pd.read_csv(url_1)\n",
        "\n",
        "# Extract the resting blood pressure (in mm Hg) column and drop missing values\n",
        "heart_rate_data = df_1['trtbps'].dropna()"
      ],
      "metadata": {
        "id": "VYhyzF3_5p8K"
      },
      "id": "VYhyzF3_5p8K",
      "execution_count": null,
      "outputs": []
    },
    {
      "cell_type": "code",
      "source": [
        "sns.boxplot(data=heart_rate_data)\n",
        "plt.show()"
      ],
      "metadata": {
        "id": "xo2-9B5L51d3",
        "outputId": "9104914b-0baf-4f9a-9ed7-82642f48c5f7",
        "colab": {
          "base_uri": "https://localhost:8080/",
          "height": 411
        }
      },
      "id": "xo2-9B5L51d3",
      "execution_count": null,
      "outputs": [
        {
          "output_type": "display_data",
          "data": {
            "text/plain": [
              "<Figure size 640x480 with 1 Axes>"
            ],
            "image/png": "[encoded data removed]"
          },
          "metadata": {}
        }
      ]
    },
    {
      "cell_type": "markdown",
      "source": [
        "# Observation\n",
        "The median value of the resting blood pressure is 130 mm Hg, as indicated by the horizontal line inside the box. The whiskers show the max value is 170 mm Hg and min value is 90 mm Hg. The interquartile range (IQR) is 140 - 120 = 20 mm Hg.  The plot shows some outliers, represented by individual circles. The outliers are located on the upper side of the box, which means that there are a few higher values compared to the majority of the data."
      ],
      "metadata": {
        "id": "Q1h_-zmj6TYp"
      },
      "id": "Q1h_-zmj6TYp"
    },
    {
      "cell_type": "markdown",
      "source": [
        "# Data Set 2: Weight of Babies"
      ],
      "metadata": {
        "id": "oNxcyGPL7P6O"
      },
      "id": "oNxcyGPL7P6O"
    },
    {
      "cell_type": "code",
      "source": [
        "#Access the dataset (Source = https://www.kaggle.com/datasets/danbraswell/temporary-us-births)\n",
        "url_2 = 'https://raw.githubusercontent.com/len-rtz/AML/refs/heads/main/data/us_births_2016_2021.csv'\n",
        "\n",
        "# Load the dataset\n",
        "df_2 = pd.read_csv(url_2)\n",
        "\n",
        "# Extract the weight column and drop missing values\n",
        "baby_weight_data = df_2['Average Birth Weight (g)'].dropna()"
      ],
      "metadata": {
        "id": "0YE4hbiz5-Dt"
      },
      "id": "0YE4hbiz5-Dt",
      "execution_count": null,
      "outputs": []
    },
    {
      "cell_type": "code",
      "source": [
        "sns.boxplot(data=baby_weight_data)\n",
        "plt.show()"
      ],
      "metadata": {
        "id": "vr2sc0n07Y5U",
        "outputId": "d6f6afa0-674c-49a3-da76-66df8ea6a432",
        "colab": {
          "base_uri": "https://localhost:8080/",
          "height": 413
        }
      },
      "id": "vr2sc0n07Y5U",
      "execution_count": null,
      "outputs": [
        {
          "output_type": "display_data",
          "data": {
            "text/plain": [
              "<Figure size 640x480 with 1 Axes>"
            ],
            "image/png": "[encoded data removed]"
          },
          "metadata": {}
        }
      ]
    },
    {
      "cell_type": "markdown",
      "source": [
        "The median birth weight is around 3250 grams. The IQR is approximately 3300 - 3150 = 250 grams. The minimum value is around 2950 grams, and the maximum value is around 3550 grams. The plot shows several outliers below the box."
      ],
      "metadata": {
        "id": "UfCnopiw7jkr"
      },
      "id": "UfCnopiw7jkr"
    },
    {
      "cell_type": "markdown",
      "source": [
        "# Data Set 3: Renewable Power Production France"
      ],
      "metadata": {
        "id": "Nh7iayet778N"
      },
      "id": "Nh7iayet778N"
    },
    {
      "cell_type": "code",
      "source": [
        "#Access the dataset (Source = https://www.kaggle.com/datasets/henriupton/wind-solar-electricity-production)\n",
        "url_3 = 'https://raw.githubusercontent.com/len-rtz/AML/refs/heads/main/data/intermittent-renewables-production-france.csv'\n",
        "\n",
        "# Load the dataset\n",
        "df_3 = pd.read_csv(url_3)\n",
        "\n",
        "# Extract the production in MWh column and drop missing values\n",
        "renewable_energy_data = df_3['Production'].dropna()"
      ],
      "metadata": {
        "id": "YqyjqJ637cIj"
      },
      "id": "YqyjqJ637cIj",
      "execution_count": null,
      "outputs": []
    },
    {
      "cell_type": "code",
      "source": [
        "sns.boxplot(data=renewable_energy_data)\n",
        "plt.show()"
      ],
      "metadata": {
        "id": "U-DkvtUa8Eqr",
        "outputId": "f3ac85a2-c4ba-4f4c-9659-073eeba03af3",
        "colab": {
          "base_uri": "https://localhost:8080/",
          "height": 411
        }
      },
      "id": "U-DkvtUa8Eqr",
      "execution_count": null,
      "outputs": [
        {
          "output_type": "display_data",
          "data": {
            "text/plain": [
              "<Figure size 640x480 with 1 Axes>"
            ],
            "image/png": "[encoded data removed]"
          },
          "metadata": {}
        }
      ]
    },
    {
      "cell_type": "markdown",
      "source": [
        "The median value of the renewable energy production is around 1,000 MWh, as indicated by the horizontal line inside the box. The minimum value is around 0 MWh, and the maximum value is around 17,500 MWh. There are a lot of outliers on the upper side of the plot. The IQR is approx. 4,000 MWh - 0 MWh = 4,000 MWh"
      ],
      "metadata": {
        "id": "YDB25BFW9GWs"
      },
      "id": "YDB25BFW9GWs"
    },
    {
      "cell_type": "markdown",
      "source": [
        "# How to test your data on being distributed normally\n",
        "There are multiple statistical methods that can be run for normal distribution:\n",
        "\n",
        "Either with the help of visualisations and oberservations, e.g. with\n",
        "* histogram,\n",
        "* box plot,\n",
        "* P–P Plot, and\n",
        "* Q–Q Plot\n",
        "\n",
        "or with statistics tests, the most common ones are the\n",
        "* Shapiro-Wilk test (for small sample sizes < 50), and the\n",
        "* Kolmogorov-Smirnov test (for sample sizes < 50).\n",
        "\n",
        "For both of the above tests, null hypothesis states that data are taken from normal distributed population.\n",
        "\n",
        "Source:\n",
        "Mishra, P., Pandey, C. M., Singh, U., Gupta, A., Sahu, C., & Keshri, A. (2019). Descriptive statistics and normality tests for statistical data. Annals of cardiac anaesthesia, 22(1), 67–72. https://doi.org/10.4103/aca.ACA_157_18"
      ],
      "metadata": {
        "id": "eTcwZqFN-tHF"
      },
      "id": "eTcwZqFN-tHF"
    },
    {
      "cell_type": "markdown",
      "source": [
        "# Kolmogorov-Smirnov Test for Baby Weight Dataset\n",
        "As the Baby Weight Dataset can be considered the closest to a normal distribution, we will run a Kolmogorov-Smirnov test. For this we will make us of the scipy-library."
      ],
      "metadata": {
        "id": "aaWu3C3oArDR"
      },
      "id": "aaWu3C3oArDR"
    },
    {
      "cell_type": "code",
      "source": [
        "import scipy.stats as stats\n",
        "\n",
        "# Perform the Kolmogorov-Smirnov test on baby weight data\n",
        "statistic, p_value = stats.kstest(baby_weight_data, 'norm')\n",
        "\n",
        "# Print the results\n",
        "print(\"Kolmogorov-Smirnov statistic:\", statistic)\n",
        "print(\"P-value:\", p_value)"
      ],
      "metadata": {
        "id": "Z6dFF_jP8HlU",
        "outputId": "ba72ef5f-11bf-4d4c-9c91-067554d2aaf4",
        "colab": {
          "base_uri": "https://localhost:8080/"
        }
      },
      "id": "Z6dFF_jP8HlU",
      "execution_count": null,
      "outputs": [
        {
          "output_type": "stream",
          "name": "stdout",
          "text": [
            "Kolmogorov-Smirnov statistic: 1.0\n",
            "P-value: 0.0\n"
          ]
        }
      ]
    },
    {
      "cell_type": "markdown",
      "source": [
        "According to the result of the Kolmogorov-Smirnov test, the baby weight data is not distributed normally. This could be due to skewness, kurtosis, or the presence of outliers, which we already know is a problem."
      ],
      "metadata": {
        "id": "R97d3pZ_Hk5E"
      },
      "id": "R97d3pZ_Hk5E"
    },
    {
      "cell_type": "code",
      "source": [],
      "metadata": {
        "id": "9wBEA68LFWMx"
      },
      "id": "9wBEA68LFWMx",
      "execution_count": null,
      "outputs": []
    }
  ],
  "metadata": {
    "kernelspec": {
      "display_name": "Python 3 (ipykernel)",
      "language": "python",
      "name": "python3"
    },
    "language_info": {
      "codemirror_mode": {
        "name": "ipython",
        "version": 3
      },
      "file_extension": ".py",
      "mimetype": "text/x-python",
      "name": "python",
      "nbconvert_exporter": "python",
      "pygments_lexer": "ipython3",
      "version": "3.9.17"
    },
    "colab": {
      "provenance": []
    }
  },
  "nbformat": 4,
  "nbformat_minor": 5
}